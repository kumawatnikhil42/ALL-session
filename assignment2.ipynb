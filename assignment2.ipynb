{
 "cells": [
  {
   "cell_type": "markdown",
   "id": "4d039836",
   "metadata": {},
   "source": [
    "# Assignment"
   ]
  },
  {
   "cell_type": "code",
   "execution_count": 1,
   "id": "d071caf4",
   "metadata": {},
   "outputs": [
    {
     "name": "stdout",
     "output_type": "stream",
     "text": [
      "Enter no. of seat:3\n",
      "Available seats: 97\n",
      "Price of booked seats: 3000\n"
     ]
    }
   ],
   "source": [
    "#Q1\n",
    "a=100\n",
    "b=int(input(\"Enter no. of seat:\"))\n",
    "c=a-b\n",
    "k=b*1000\n",
    "print(\"Available seats:\",c)\n",
    "print(\"Price of booked seats:\",k)"
   ]
  },
  {
   "cell_type": "code",
   "execution_count": 4,
   "id": "5c57655c",
   "metadata": {},
   "outputs": [
    {
     "name": "stdout",
     "output_type": "stream",
     "text": [
      "Menu :\n",
      "{'Coffee': 150, 'MangoShake': 180, 'Burger': 90, 'Pizza': 500}\n",
      "Enter no. of items:5\n",
      "Enter order:Pizza\n",
      "Enter order:Pizza\n",
      "Enter order:Pizza\n",
      "Enter order:Pizza\n",
      "Enter order:Pizza\n",
      "Total price: 2300\n"
     ]
    }
   ],
   "source": [
    "#Q2\n",
    "Menu={\"Coffee\":150,\"MangoShake\":180,\"Burger\":90,\"Pizza\":500}\n",
    "print(\"Menu :\")\n",
    "print(Menu)\n",
    "size=int(input(\"Enter no. of items:\"))\n",
    "bill=[]\n",
    "for i in range(size):\n",
    "    order=input(\"Enter order:\")\n",
    "    if(order==\"Coffee\"):\n",
    "        bill.append(150)\n",
    "    elif(order==\"MangoShake\"):\n",
    "        bill.append(180)\n",
    "    elif(order==\"Burger\"):\n",
    "        bill.append(90)\n",
    "    elif(order==\"Pizza\"):\n",
    "        bill.append(500)\n",
    "total=sum(bill)\n",
    "#print(total)\n",
    "if(total>=2000):\n",
    "    final=total-200\n",
    "    print(\"Total price:\",final)\n",
    "else:\n",
    "    print(\"Total price:\",total)"
   ]
  },
  {
   "cell_type": "code",
   "execution_count": null,
   "id": "5f7bd90b",
   "metadata": {},
   "outputs": [],
   "source": []
  }
 ],
 "metadata": {
  "kernelspec": {
   "display_name": "Python 3 (ipykernel)",
   "language": "python",
   "name": "python3"
  },
  "language_info": {
   "codemirror_mode": {
    "name": "ipython",
    "version": 3
   },
   "file_extension": ".py",
   "mimetype": "text/x-python",
   "name": "python",
   "nbconvert_exporter": "python",
   "pygments_lexer": "ipython3",
   "version": "3.11.5"
  }
 },
 "nbformat": 4,
 "nbformat_minor": 5
}
